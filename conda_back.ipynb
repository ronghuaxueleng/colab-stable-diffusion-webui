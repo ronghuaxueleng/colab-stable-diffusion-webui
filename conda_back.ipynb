{
 "cells": [
  {
   "cell_type": "markdown",
   "metadata": {
    "id": "USf5bG82zizW"
   },
   "source": [
    "[![Open In Colab](https://colab.research.google.com/assets/colab-badge.svg)](https://colab.research.google.com/github/ronghuaxueleng/colab-stable-diffusion-webui/blob/main/conda_back.ipynb)"
   ]
  },
  {
   "cell_type": "code",
   "execution_count": null,
   "metadata": {
    "id": "N2jxPHoszhdq",
    "outputId": "43a26149-635a-40d1-d63a-888140e15f1b",
    "colab": {
     "base_uri": "https://localhost:8080/"
    }
   },
   "outputs": [],
   "source": [
    "from google.colab import drive\n",
    "drive.mount('/content/drive', force_remount=True)"
   ]
  },
  {
   "cell_type": "code",
   "execution_count": null,
   "metadata": {
    "id": "_itdrCDcP0Gg"
   },
   "outputs": [],
   "source": [
    "import os\n",
    "os.makedirs(\"/content/drive/MyDrive/conda\", exist_ok=True)\n",
    "! wget -O mini.sh https://repo.anaconda.com/miniconda/Miniconda3-latest-Linux-x86_64.sh\n",
    "! chmod +x mini.sh\n",
    "! bash ./mini.sh -b -f -p /usr/local\n",
    "#! conda search \"^python$\"\n",
    "# ! pip install conda-pack\n",
    "! conda install -y python=3.10.6\n",
    "# ! conda create -y -n stablediffusion python=3.10.6\n",
    "! wget -O init_env.sh https://raw.githubusercontent.com/ronghuaxueleng/colab-stable-diffusion-webui/main/init_env.sh\n",
    "! chmod +x init_env.sh\n",
    "! bash ./init_env.sh"
   ]
  }
 ],
 "metadata": {
  "colab": {
   "provenance": []
  },
  "kernelspec": {
   "display_name": "Python 3",
   "name": "python3"
  },
  "language_info": {
   "name": "python"
  }
 },
 "nbformat": 4,
 "nbformat_minor": 0
}
