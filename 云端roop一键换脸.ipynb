{
  "cells": [
    {
      "cell_type": "markdown",
      "metadata": {
        "colab_type": "text",
        "id": "view-in-github"
      },
      "source": [
        "<a href=\"https://colab.research.google.com/github/ronghuaxueleng/colab-stable-diffusion-webui/blob/20230725/%E4%BA%91%E7%AB%AFroop%E4%B8%80%E9%94%AE%E6%8D%A2%E8%84%B8.ipynb\" target=\"_parent\"><img src=\"https://colab.research.google.com/assets/colab-badge.svg\" alt=\"Open In Colab\"/></a>"
      ]
    },
    {
      "cell_type": "markdown",
      "metadata": {
        "id": "ZYT_HxYwNafX"
      },
      "source": [
        "本地部署roop一键换脸教程\n",
        "https://mp.weixin.qq.com/s/hYtncrIQUwQXE41FP3RSgg"
      ]
    },
    {
      "cell_type": "code",
      "execution_count": null,
      "metadata": {
        "id": "XE13L8AwNDGi"
      },
      "outputs": [],
      "source": [
        "#克隆roop项目\n",
        "!git clone https://github.com/s0md3v/roop\n",
        "\n",
        "#下载依赖包\n",
        "%cd roop\n",
        "!pip install -r requirements.txt\n",
        "\n",
        "#安装onnxruntime onnxruntime-gpu\n",
        "#卸载onnxruntime和onnxruntime-gpu时，需要手动输入Y确认，\n",
        "#鼠标移到在提示输入框里，输入Y，回车确认即可\n",
        "!pip uninstall onnxruntime onnxruntime-gpu\n",
        "!pip install onnxruntime-gpu"
      ]
    },
    {
      "cell_type": "code",
      "execution_count": null,
      "metadata": {
        "colab": {
          "background_save": true
        },
        "id": "fsfOvEhfNx7t"
      },
      "outputs": [],
      "source": [
        "#云端运行roop一键换脸\n",
        "#需要把图片和文件上传到/content/roop目录下，要换脸的图片和视频和run.py在同一级目录\n",
        "#转换后的视频可以下载，在左侧的项目目录中\n",
        "Device = \"cpu\" #[\"cuda\", \"cpu\"]，选CUDA就是使用GPU，选CPU就用CPU\n",
        "Processor = \"face_swapper face_enhancer\" #[\"face_swapper face_enhancer\", \"face_swapper\",\"face_enhancer\"]换脸还是人脸修复，默认全部启用\n",
        "VideoEncoder = \"libx264\" #[\"libx264\", \"libx265\",\"ibvpx-vp9\"]视频编码器选择，选H264会快一些\n",
        "VideoQuality = \"18\" #{type:\"string\"}视频质量，默认18，取值范围0-51\n",
        "\n",
        "source = \"/content/roop/gy.png\" #换脸目标图\n",
        "target = \"/content/roop/1.mp4\" #换脸目标视频\n",
        "output = \"/content/roop/out.mp4\" #输出视频\n",
        "\n",
        "\n",
        "cmd = f\"run.py --execution-provider {Device} -s {source} -t {target} -o {output} --frame-processor {Processor} --video-encoder {VideoEncoder} --video-quality {VideoQuality}\"\n",
        "\n",
        "!python $cmd"
      ]
    },
    {
      "cell_type": "code",
      "execution_count": null,
      "metadata": {
        "id": "Is6U2huqSzLE"
      },
      "outputs": [],
      "source": [
        "#-------运行---------\n",
        "#需要把图片和文件上传到/content/roop目录下，不要传到下一级roop目录了。即要换脸的图片和视频是和run.py同一级目录。\n",
        "#转换后的视频可以自己左侧选中下载\n",
        "\n",
        "!python run.py -f 1.png -t b.mp4 -o face_changed_video.mp4 --keep-frames --keep-fps --execution-provider cuda"
      ]
    }
  ],
  "metadata": {
    "colab": {
      "include_colab_link": true,
      "provenance": []
    },
    "kernelspec": {
      "display_name": "Python 3",
      "name": "python3"
    },
    "language_info": {
      "name": "python"
    }
  },
  "nbformat": 4,
  "nbformat_minor": 0
}
