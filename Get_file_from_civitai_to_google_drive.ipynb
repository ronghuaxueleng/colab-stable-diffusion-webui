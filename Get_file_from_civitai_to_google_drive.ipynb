{
 "cells": [
  {
   "attachments": {},
   "cell_type": "markdown",
   "metadata": {
    "id": "USf5bG82zizW"
   },
   "source": [
    "[![Open In Colab](https://colab.research.google.com/assets/colab-badge.svg)](https://colab.research.google.com/github/ronghuaxueleng/colab-stable-diffusion-webui/blob/main/Get_file_from_civitai_to_google_drive.ipynb)"
   ]
  },
  {
   "cell_type": "code",
   "execution_count": null,
   "outputs": [],
   "source": [
    "#### 0.挂载Google Drive"
   ],
   "metadata": {
    "collapsed": false
   }
  },
  {
   "cell_type": "code",
   "execution_count": null,
   "metadata": {
    "id": "N2jxPHoszhdq"
   },
   "outputs": [],
   "source": [
    "from google.colab import drive\n",
    "drive.mount('/content/drive', force_remount=True)"
   ]
  },
  {
   "cell_type": "markdown",
   "metadata": {
    "id": "0N7T91auORMR"
   },
   "source": [
    "# Civitai"
   ]
  },
  {
   "attachments": {},
   "cell_type": "markdown",
   "metadata": {
    "id": "8U70I-M7OlDV"
   },
   "source": [
    "#### 1.设置文件信息"
   ]
  },
  {
   "cell_type": "code",
   "execution_count": null,
   "metadata": {
    "id": "UjBDD7cuO4Kc"
   },
   "outputs": [],
   "source": [
    "GOOGLE_DRIVE_PATH = \"drive/MyDrive/AI/models\" #@param {type:\"string\"} 设置Google Drive路径\n",
    "FILE_URL = \"https://civitai.com/api/download/models/7543\" #@param {type:\"string\"} civitai模型文件地址\n",
    "SAVE_FILE_NAME = \"chilloutmix_NiPrunedFp32Fix.safetensors\" #@param {type:\"string\"} 保存文件名"
   ]
  },
  {
   "attachments": {},
   "cell_type": "markdown",
   "metadata": {
    "id": "BBcVt3B-Pu2_"
   },
   "source": [
    "#### 2.下载到Colab"
   ]
  },
  {
   "cell_type": "code",
   "execution_count": null,
   "metadata": {
    "id": "_itdrCDcP0Gg"
   },
   "outputs": [],
   "source": [
    "import os\n",
    "cache_dir_civitai=\"/content/civitai_models\"\n",
    "os.makedirs(cache_dir_civitai, exist_ok=True)\n",
    "!wget -o $cache_dir_civitai/$SAVE_FILE_NAME --content-disposition $FILE_URL\n",
    "!ls -lh $cache_dir_civitai"
   ]
  },
  {
   "attachments": {},
   "cell_type": "markdown",
   "metadata": {
    "id": "vTkH0Ce1R-jU"
   },
   "source": [
    "#### 3.从Colab复制到Google Drive"
   ]
  },
  {
   "cell_type": "code",
   "execution_count": null,
   "metadata": {
    "id": "21IUOeyYSFSi"
   },
   "outputs": [],
   "source": [
    "!cp -rf $cache_dir_civitai $GOOGLE_DRIVE_PATH\n",
    "!ls $GOOGLE_DRIVE_PATH "
   ]
  }
 ],
 "metadata": {
  "colab": {
   "provenance": []
  },
  "kernelspec": {
   "display_name": "Python 3",
   "name": "python3"
  },
  "language_info": {
   "name": "python"
  }
 },
 "nbformat": 4,
 "nbformat_minor": 0
}
