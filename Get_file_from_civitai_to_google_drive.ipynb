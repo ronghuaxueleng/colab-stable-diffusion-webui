{
 "cells": [
  {
   "cell_type": "markdown",
   "metadata": {
    "id": "USf5bG82zizW"
   },
   "source": [
    "[![Open In Colab](https://colab.research.google.com/assets/colab-badge.svg)](https://colab.research.google.com/github/ronghuaxueleng/colab-stable-diffusion-webui/blob/main/Get_file_from_civitai_to_google_drive.ipynb)\n",
    "\n",
    "# 下载模型到网盘"
   ]
  },
  {
   "cell_type": "markdown",
   "source": [
    "#### 0.挂载Google Drive"
   ],
   "metadata": {
    "collapsed": false
   }
  },
  {
   "cell_type": "code",
   "execution_count": null,
   "metadata": {
    "id": "N2jxPHoszhdq",
    "outputId": "43a26149-635a-40d1-d63a-888140e15f1b",
    "colab": {
     "base_uri": "https://localhost:8080/"
    }
   },
   "outputs": [],
   "source": [
    "from google.colab import drive\n",
    "drive.mount('/content/drive', force_remount=True)"
   ]
  },
  {
   "cell_type": "markdown",
   "metadata": {
    "id": "0N7T91auORMR"
   },
   "source": [
    "# Civitai"
   ]
  },
  {
   "cell_type": "markdown",
   "metadata": {
    "id": "8U70I-M7OlDV"
   },
   "source": [
    "#### 1.设置文件信息"
   ]
  },
  {
   "cell_type": "code",
   "execution_count": null,
   "metadata": {
    "id": "UjBDD7cuO4Kc",
    "outputId": "9bf4c563-7895-4039-9801-f8ad968f62f1",
    "colab": {
     "base_uri": "https://localhost:8080/"
    }
   },
   "outputs": [],
   "source": [
    "import os\n",
    "BASE_DIR = \"/content/drive/MyDrive/Stable_Diffusion_WebUI_Colab_zh_CN/models/\"\n",
    "MODEL_PATH = \"Stable-diffusion\" # @param [\"Stable-diffusion\", \"Lora\", \"ControlNet\", \"VAE\"]\n",
    "GOOGLE_DRIVE_PATH = f\"{BASE_DIR}/{MODEL_PATH}\"\n",
    "FILE_URL_BASE = \"https://civitai.com/api/download/models\"\n",
    "MODEL_ID = \"8958\" # @param {type:\"string\"} civitai模型文件地址\n",
    "FILE_URL = f\"{FILE_URL_BASE}/{MODEL_ID}\"\n",
    "SAVE_FILE_NAME = \"chilloutmix_Ni.safetensors\" #@param {type:\"string\"} 保存文件名\n",
    "os.makedirs(GOOGLE_DRIVE_PATH, exist_ok=True)\n",
    "!ls -lh $GOOGLE_DRIVE_PATH"
   ]
  },
  {
   "cell_type": "markdown",
   "metadata": {
    "id": "BBcVt3B-Pu2_"
   },
   "source": [
    "#### 2.下载到Google Drive"
   ]
  },
  {
   "cell_type": "code",
   "execution_count": null,
   "metadata": {
    "id": "_itdrCDcP0Gg"
   },
   "outputs": [],
   "source": [
    "%cd $GOOGLE_DRIVE_PATH\n",
    "!wget -O $SAVE_FILE_NAME $FILE_URL"
   ]
  }
 ],
 "metadata": {
  "colab": {
   "provenance": []
  },
  "kernelspec": {
   "display_name": "Python 3",
   "name": "python3"
  },
  "language_info": {
   "name": "python"
  }
 },
 "nbformat": 4,
 "nbformat_minor": 0
}
