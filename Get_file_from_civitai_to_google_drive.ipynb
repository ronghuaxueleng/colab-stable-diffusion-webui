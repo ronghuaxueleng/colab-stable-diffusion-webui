{
  "cells": [
    {
      "cell_type": "markdown",
      "metadata": {
        "id": "USf5bG82zizW"
      },
      "source": [
        "[![Open In Colab](https://colab.research.google.com/assets/colab-badge.svg)](https://colab.research.google.com/github/ronghuaxueleng/colab-stable-diffusion-webui/blob/main/Get_file_from_civitai_to_google_drive.ipynb)\n",
        "\n",
        "# 下载模型到网盘"
      ]
    },
    {
      "cell_type": "code",
      "execution_count": null,
      "outputs": [],
      "source": [
        "#### 0.挂载Google Drive"
      ],
      "metadata": {
        "id": "6KEmOEPYF93w"
      }
    },
    {
      "cell_type": "code",
      "execution_count": 2,
      "metadata": {
        "id": "N2jxPHoszhdq",
        "outputId": "43a26149-635a-40d1-d63a-888140e15f1b",
        "colab": {
          "base_uri": "https://localhost:8080/"
        }
      },
      "outputs": [
        {
          "output_type": "stream",
          "name": "stdout",
          "text": [
            "Mounted at /content/drive\n"
          ]
        }
      ],
      "source": [
        "from google.colab import drive\n",
        "drive.mount('/content/drive', force_remount=True)"
      ]
    },
    {
      "cell_type": "markdown",
      "metadata": {
        "id": "0N7T91auORMR"
      },
      "source": [
        "# Civitai"
      ]
    },
    {
      "cell_type": "markdown",
      "metadata": {
        "id": "8U70I-M7OlDV"
      },
      "source": [
        "#### 1.设置文件信息"
      ]
    },
    {
      "cell_type": "code",
      "execution_count": 6,
      "metadata": {
        "id": "UjBDD7cuO4Kc",
        "outputId": "9bf4c563-7895-4039-9801-f8ad968f62f1",
        "colab": {
          "base_uri": "https://localhost:8080/"
        }
      },
      "outputs": [
        {
          "output_type": "stream",
          "name": "stdout",
          "text": [
            "total 0\n"
          ]
        }
      ],
      "source": [
        "import os\n",
        "GOOGLE_DRIVE_PATH = \"drive/MyDrive/AI/models\" #@param {type:\"string\"} 设置Google Drive路径\n",
        "FILE_URL = \"https://civitai.com/api/download/models/7543\" #@param {type:\"string\"} civitai模型文件地址\n",
        "SAVE_FILE_NAME = \"chilloutmix_NiPrunedFp32Fix.safetensors\" #@param {type:\"string\"} 保存文件名\n",
        "os.makedirs(GOOGLE_DRIVE_PATH, exist_ok=True)\n",
        "!ls -lh $GOOGLE_DRIVE_PATH"
      ]
    },
    {
      "cell_type": "markdown",
      "metadata": {
        "id": "BBcVt3B-Pu2_"
      },
      "source": [
        "#### 2.下载到Google Drive"
      ]
    },
    {
      "cell_type": "code",
      "execution_count": null,
      "metadata": {
        "id": "_itdrCDcP0Gg"
      },
      "outputs": [],
      "source": [
        "!wget -o $GOOGLE_DRIVE_PATH/$SAVE_FILE_NAME --content-disposition $FILE_URL\n",
        "!ls -lh $GOOGLE_DRIVE_PATH"
      ]
    }
  ],
  "metadata": {
    "colab": {
      "provenance": []
    },
    "kernelspec": {
      "display_name": "Python 3",
      "name": "python3"
    },
    "language_info": {
      "name": "python"
    }
  },
  "nbformat": 4,
  "nbformat_minor": 0
}